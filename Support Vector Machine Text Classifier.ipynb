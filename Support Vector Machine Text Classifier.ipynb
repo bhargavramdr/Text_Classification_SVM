{
 "cells": [
  {
   "cell_type": "markdown",
   "id": "1fdf233f",
   "metadata": {},
   "source": [
    "### Support Vector Machine Text Classifier"
   ]
  },
  {
   "cell_type": "code",
   "execution_count": 1,
   "id": "68d9976a",
   "metadata": {},
   "outputs": [],
   "source": [
    "import pandas as pd\n",
    "import numpy as np\n",
    "from nltk.tokenize import word_tokenize\n",
    "from nltk import pos_tag\n",
    "from nltk.corpus import stopwords\n",
    "from nltk.stem import WordNetLemmatizer\n",
    "from sklearn.preprocessing import LabelEncoder\n",
    "from collections import defaultdict\n",
    "from nltk.corpus import wordnet as wn\n",
    "from sklearn.feature_extraction.text import TfidfVectorizer\n",
    "from sklearn import model_selection, svm\n",
    "from sklearn.metrics import accuracy_score"
   ]
  },
  {
   "cell_type": "code",
   "execution_count": 2,
   "id": "fa3e263f",
   "metadata": {},
   "outputs": [],
   "source": [
    "corpus_1 = pd.read_csv(\"amezon.csv\", encoding = \"latin-1\")"
   ]
  },
  {
   "cell_type": "code",
   "execution_count": 3,
   "id": "40a6acb4",
   "metadata": {},
   "outputs": [],
   "source": [
    "corpus_1['text'].dropna(inplace=True)"
   ]
  },
  {
   "cell_type": "code",
   "execution_count": 4,
   "id": "c46cfa5a",
   "metadata": {},
   "outputs": [],
   "source": [
    "corpus_1['text'] = [i.lower() for i in corpus_1['text']]"
   ]
  },
  {
   "cell_type": "code",
   "execution_count": 5,
   "id": "c7dc87e1",
   "metadata": {},
   "outputs": [],
   "source": [
    "corpus_1['text'] = [word_tokenize(i) for i in corpus_1['text']]"
   ]
  },
  {
   "cell_type": "code",
   "execution_count": 6,
   "id": "b90cf94f",
   "metadata": {},
   "outputs": [],
   "source": [
    "tag = defaultdict(lambda : wn.NOUN)\n",
    "tag['J'] = wn.ADJ\n",
    "tag['V'] = wn.VERB\n",
    "tag['R'] = wn.ADV"
   ]
  },
  {
   "cell_type": "code",
   "execution_count": 7,
   "id": "02b6644b",
   "metadata": {},
   "outputs": [],
   "source": [
    "for index,entry in enumerate(corpus_1['text']):\n",
    "    Final_words = []\n",
    "    \n",
    "\n",
    "    word_Lemmatized = WordNetLemmatizer()\n",
    "    \n",
    "\n",
    "    for word, tagx in pos_tag(entry):\n",
    "\n",
    "        if word not in stopwords.words('english') and word.isalpha():\n",
    "            word_Final = word_Lemmatized.lemmatize(word,tag[tagx[0]])\n",
    "            Final_words.append(word_Final)\n",
    "            \n",
    "\n",
    "    corpus_1.loc[index,'text_final'] = str(Final_words)\n"
   ]
  },
  {
   "cell_type": "code",
   "execution_count": 9,
   "id": "fe78230e",
   "metadata": {},
   "outputs": [],
   "source": [
    "Train_X, Test_X, Train_Y, Test_Y = model_selection.train_test_split(corpus_1['text_final'], corpus_1['label'],test_size=0.3)"
   ]
  },
  {
   "cell_type": "code",
   "execution_count": 10,
   "id": "e2d0bfa8",
   "metadata": {},
   "outputs": [],
   "source": [
    "Encoder = LabelEncoder()\n",
    "Train_Y = Encoder.fit_transform(Train_Y)\n",
    "Test_Y = Encoder.fit_transform(Test_Y)"
   ]
  },
  {
   "cell_type": "code",
   "execution_count": 11,
   "id": "4c6d56e9",
   "metadata": {},
   "outputs": [],
   "source": [
    "vect = TfidfVectorizer(max_features=5000)\n",
    "vect.fit(corpus_1['text_final'])\n",
    "\n",
    "Train_X_v = vect.transform(Train_X)\n",
    "Test_X_v = vect.transform(Test_X)\n"
   ]
  },
  {
   "cell_type": "markdown",
   "id": "5d4cdecf",
   "metadata": {},
   "source": [
    "### Support Vector Machine"
   ]
  },
  {
   "cell_type": "code",
   "execution_count": 45,
   "id": "4bc851c9",
   "metadata": {},
   "outputs": [
    {
     "data": {
      "text/plain": [
       "SVC(gamma='auto', kernel='linear')"
      ]
     },
     "execution_count": 45,
     "metadata": {},
     "output_type": "execute_result"
    }
   ],
   "source": [
    "SVM = svm.SVC(C=1.0, kernel=\"linear\", degree=3, gamma=\"auto\")\n",
    "SVM.fit(Train_X_v,Train_Y)"
   ]
  },
  {
   "cell_type": "code",
   "execution_count": 46,
   "id": "0e02de9d",
   "metadata": {},
   "outputs": [],
   "source": [
    "predictions_SVM = SVM.predict(Test_X_v)"
   ]
  },
  {
   "cell_type": "code",
   "execution_count": 47,
   "id": "6c3f74bd",
   "metadata": {},
   "outputs": [
    {
     "name": "stdout",
     "output_type": "stream",
     "text": [
      "SVM Accuracy Score ->  84.23333333333333\n"
     ]
    }
   ],
   "source": [
    "print(\"SVM Accuracy Score -> \",accuracy_score(Test_Y, predictions_SVM)*100)"
   ]
  },
  {
   "cell_type": "code",
   "execution_count": null,
   "id": "851125d4",
   "metadata": {},
   "outputs": [],
   "source": []
  }
 ],
 "metadata": {
  "kernelspec": {
   "display_name": "Python 3 (ipykernel)",
   "language": "python",
   "name": "python3"
  },
  "language_info": {
   "codemirror_mode": {
    "name": "ipython",
    "version": 3
   },
   "file_extension": ".py",
   "mimetype": "text/x-python",
   "name": "python",
   "nbconvert_exporter": "python",
   "pygments_lexer": "ipython3",
   "version": "3.9.7"
  }
 },
 "nbformat": 4,
 "nbformat_minor": 5
}
